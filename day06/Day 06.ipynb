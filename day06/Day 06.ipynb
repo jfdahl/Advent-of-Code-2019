{
 "cells": [
  {
   "cell_type": "code",
   "execution_count": 1,
   "metadata": {},
   "outputs": [],
   "source": [
    "data = {}\n",
    "with open('input.txt', 'r') as fh:\n",
    "    for line in fh:\n",
    "        line = line.strip().split(')')\n",
    "        data[line[0]] = data.get(line[0], []) + [line[1]]"
   ]
  },
  {
   "cell_type": "code",
   "execution_count": 2,
   "metadata": {},
   "outputs": [],
   "source": [
    "def get_children(parent: str, depth: int, path: str):\n",
    "    '''Recursively walk down each orbital path and \n",
    "    update global variables to reflect count and paths.'''\n",
    "    global orbit_count, path_san, path_you\n",
    "    if parent == 'COM':\n",
    "        path = parent\n",
    "    else:\n",
    "        path += f', {parent}'\n",
    "    if parent == 'YOU': path_you = path\n",
    "    if parent == 'SAN': path_san = path\n",
    "    children = data.get(parent, None)\n",
    "    if children is None: return\n",
    "    depth += 1\n",
    "    orbit_count += len(children) * depth\n",
    "    for grandchild in children:\n",
    "        get_children(grandchild, depth, path)"
   ]
  },
  {
   "cell_type": "code",
   "execution_count": 3,
   "metadata": {},
   "outputs": [
    {
     "name": "stdout",
     "output_type": "stream",
     "text": [
      "Total orbit count: 270768\n",
      "Traversal distance is 451\n"
     ]
    }
   ],
   "source": [
    "# Setup Global Variables (Yes, I know they are bad)\n",
    "orbit_count = 0\n",
    "path_you = ''\n",
    "path_san = ''\n",
    "\n",
    "# Walk the orbits and create the paths\n",
    "get_children('COM', depth=0, path='')\n",
    "path_you = path_you.split(', ')\n",
    "path_san = path_san.split(', ')\n",
    "\n",
    "# Determine shared steps to COM\n",
    "path_both = [step for step in path_you if step in path_san]\n",
    "path_both2 = [step for step in path_san if step in path_you]\n",
    "assert path_both == path_both2\n",
    "\n",
    "# Remove shared steps to find the unique separation point\n",
    "path_you = path_you[len(path_both):]\n",
    "path_san = path_san[len(path_both):]\n",
    "\n",
    "# Steps is one less than the number of positions\n",
    "count_you = len(path_you) - 1\n",
    "count_san = len(path_san) - 1\n",
    "\n",
    "print(f'Total orbit count: {orbit_count}')\n",
    "print(f'Traversal distance is {count_you + count_san}')\n"
   ]
  },
  {
   "cell_type": "code",
   "execution_count": null,
   "metadata": {},
   "outputs": [],
   "source": []
  }
 ],
 "metadata": {
  "kernelspec": {
   "display_name": "Python 3",
   "language": "python",
   "name": "python3"
  },
  "language_info": {
   "codemirror_mode": {
    "name": "ipython",
    "version": 3
   },
   "file_extension": ".py",
   "mimetype": "text/x-python",
   "name": "python",
   "nbconvert_exporter": "python",
   "pygments_lexer": "ipython3",
   "version": "3.7.5"
  }
 },
 "nbformat": 4,
 "nbformat_minor": 2
}
