{
 "cells": [
  {
   "cell_type": "markdown",
   "metadata": {},
   "source": [
    "# Advent-of-Code-2019\n",
    "\n",
    "## About Advent of Code\n",
    "\n",
    "    Advent of Code is an Advent calendar of small programming puzzles for a variety of skill sets and skill levels that can be solved in any programming language you like. People use them as a speed contest, interview prep, company training, university coursework, practice problems, or to challenge each other.\n",
    "\n",
    "## Websites\n",
    "\n",
    "    https://adventofcode.com/\n",
    "    ServiceNow Leaderboard: https://adventofcode.com/2019/leaderboard/private/view/109388]\n",
    "    PySlackers Leaderboard: https://adventofcode.com/2019/leaderboard/private/view/52704]\n",
    "\n",
    "## 2019 theme\n",
    "\n",
    "    Santa has become stranded at the edge of the Solar System while delivering presents to other planets! \n",
    "    To accurately calculate his position in space, safely align his warp drive, and \n",
    "    return to Earth in time to save Christmas, he needs you to bring him measurements from fifty stars.\n",
    "\n",
    "    Collect stars by solving puzzles. Two puzzles will be made available on each day in the Advent calendar; \n",
    "    the second puzzle is unlocked when you complete the first. \n",
    "    Each puzzle grants one star. Good luck!\n"
   ]
  },
  {
   "cell_type": "code",
   "execution_count": null,
   "metadata": {},
   "outputs": [],
   "source": []
  }
 ],
 "metadata": {
  "kernelspec": {
   "display_name": "Python 3",
   "language": "python",
   "name": "python3"
  },
  "language_info": {
   "codemirror_mode": {
    "name": "ipython",
    "version": 3
   },
   "file_extension": ".py",
   "mimetype": "text/x-python",
   "name": "python",
   "nbconvert_exporter": "python",
   "pygments_lexer": "ipython3",
   "version": "3.7.5"
  }
 },
 "nbformat": 4,
 "nbformat_minor": 2
}
